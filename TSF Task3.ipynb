{
 "cells": [
  {
   "cell_type": "markdown",
   "metadata": {},
   "source": [
    "# TSF Task 3 - To Explore Unsupervised Machine learning\n",
    "**Problem statement: From The given 'iris' dataset,we have to predict optimum number of clusters and represent it visually. Here, we will use k-means clustering algorithm. Also we will find appropriate numbers of clusters for Kmeans ny using Elbow method and Silhouette method.**"
   ]
  },
  {
   "cell_type": "code",
   "execution_count": 1,
   "metadata": {},
   "outputs": [],
   "source": [
    "# Importing all libraries required in this notebook\n",
    "import pandas as pd\n",
    "import numpy as np \n",
    "import seaborn as sns\n",
    "import matplotlib.pyplot as plt\n",
    "%matplotlib inline"
   ]
  },
  {
   "cell_type": "code",
   "execution_count": 21,
   "metadata": {},
   "outputs": [
    {
     "name": "stdout",
     "output_type": "stream",
     "text": [
      "      Id  SepalLengthCm  SepalWidthCm  PetalLengthCm  PetalWidthCm  \\\n",
      "0      1            5.1           3.5            1.4           0.2   \n",
      "1      2            4.9           3.0            1.4           0.2   \n",
      "2      3            4.7           3.2            1.3           0.2   \n",
      "3      4            4.6           3.1            1.5           0.2   \n",
      "4      5            5.0           3.6            1.4           0.2   \n",
      "..   ...            ...           ...            ...           ...   \n",
      "145  146            6.7           3.0            5.2           2.3   \n",
      "146  147            6.3           2.5            5.0           1.9   \n",
      "147  148            6.5           3.0            5.2           2.0   \n",
      "148  149            6.2           3.4            5.4           2.3   \n",
      "149  150            5.9           3.0            5.1           1.8   \n",
      "\n",
      "            Species  \n",
      "0       Iris-setosa  \n",
      "1       Iris-setosa  \n",
      "2       Iris-setosa  \n",
      "3       Iris-setosa  \n",
      "4       Iris-setosa  \n",
      "..              ...  \n",
      "145  Iris-virginica  \n",
      "146  Iris-virginica  \n",
      "147  Iris-virginica  \n",
      "148  Iris-virginica  \n",
      "149  Iris-virginica  \n",
      "\n",
      "[150 rows x 6 columns]\n"
     ]
    }
   ],
   "source": [
    "#importing the 'iris' dataset\n",
    "data=pd.read_csv(r'C:\\Users\\hp\\Desktop\\iris.csv')\n",
    "print(data)"
   ]
  },
  {
   "cell_type": "code",
   "execution_count": 22,
   "metadata": {},
   "outputs": [
    {
     "data": {
      "text/html": [
       "<div>\n",
       "<style scoped>\n",
       "    .dataframe tbody tr th:only-of-type {\n",
       "        vertical-align: middle;\n",
       "    }\n",
       "\n",
       "    .dataframe tbody tr th {\n",
       "        vertical-align: top;\n",
       "    }\n",
       "\n",
       "    .dataframe thead th {\n",
       "        text-align: right;\n",
       "    }\n",
       "</style>\n",
       "<table border=\"1\" class=\"dataframe\">\n",
       "  <thead>\n",
       "    <tr style=\"text-align: right;\">\n",
       "      <th></th>\n",
       "      <th>Id</th>\n",
       "      <th>SepalLengthCm</th>\n",
       "      <th>SepalWidthCm</th>\n",
       "      <th>PetalLengthCm</th>\n",
       "      <th>PetalWidthCm</th>\n",
       "      <th>Species</th>\n",
       "    </tr>\n",
       "  </thead>\n",
       "  <tbody>\n",
       "    <tr>\n",
       "      <td>0</td>\n",
       "      <td>1</td>\n",
       "      <td>5.1</td>\n",
       "      <td>3.5</td>\n",
       "      <td>1.4</td>\n",
       "      <td>0.2</td>\n",
       "      <td>Iris-setosa</td>\n",
       "    </tr>\n",
       "    <tr>\n",
       "      <td>1</td>\n",
       "      <td>2</td>\n",
       "      <td>4.9</td>\n",
       "      <td>3.0</td>\n",
       "      <td>1.4</td>\n",
       "      <td>0.2</td>\n",
       "      <td>Iris-setosa</td>\n",
       "    </tr>\n",
       "    <tr>\n",
       "      <td>2</td>\n",
       "      <td>3</td>\n",
       "      <td>4.7</td>\n",
       "      <td>3.2</td>\n",
       "      <td>1.3</td>\n",
       "      <td>0.2</td>\n",
       "      <td>Iris-setosa</td>\n",
       "    </tr>\n",
       "    <tr>\n",
       "      <td>3</td>\n",
       "      <td>4</td>\n",
       "      <td>4.6</td>\n",
       "      <td>3.1</td>\n",
       "      <td>1.5</td>\n",
       "      <td>0.2</td>\n",
       "      <td>Iris-setosa</td>\n",
       "    </tr>\n",
       "    <tr>\n",
       "      <td>4</td>\n",
       "      <td>5</td>\n",
       "      <td>5.0</td>\n",
       "      <td>3.6</td>\n",
       "      <td>1.4</td>\n",
       "      <td>0.2</td>\n",
       "      <td>Iris-setosa</td>\n",
       "    </tr>\n",
       "  </tbody>\n",
       "</table>\n",
       "</div>"
      ],
      "text/plain": [
       "   Id  SepalLengthCm  SepalWidthCm  PetalLengthCm  PetalWidthCm      Species\n",
       "0   1            5.1           3.5            1.4           0.2  Iris-setosa\n",
       "1   2            4.9           3.0            1.4           0.2  Iris-setosa\n",
       "2   3            4.7           3.2            1.3           0.2  Iris-setosa\n",
       "3   4            4.6           3.1            1.5           0.2  Iris-setosa\n",
       "4   5            5.0           3.6            1.4           0.2  Iris-setosa"
      ]
     },
     "execution_count": 22,
     "metadata": {},
     "output_type": "execute_result"
    }
   ],
   "source": [
    "data.head(5)"
   ]
  },
  {
   "cell_type": "code",
   "execution_count": 23,
   "metadata": {},
   "outputs": [
    {
     "data": {
      "text/html": [
       "<div>\n",
       "<style scoped>\n",
       "    .dataframe tbody tr th:only-of-type {\n",
       "        vertical-align: middle;\n",
       "    }\n",
       "\n",
       "    .dataframe tbody tr th {\n",
       "        vertical-align: top;\n",
       "    }\n",
       "\n",
       "    .dataframe thead th {\n",
       "        text-align: right;\n",
       "    }\n",
       "</style>\n",
       "<table border=\"1\" class=\"dataframe\">\n",
       "  <thead>\n",
       "    <tr style=\"text-align: right;\">\n",
       "      <th></th>\n",
       "      <th>Id</th>\n",
       "      <th>SepalLengthCm</th>\n",
       "      <th>SepalWidthCm</th>\n",
       "      <th>PetalLengthCm</th>\n",
       "      <th>PetalWidthCm</th>\n",
       "    </tr>\n",
       "  </thead>\n",
       "  <tbody>\n",
       "    <tr>\n",
       "      <td>count</td>\n",
       "      <td>150.000000</td>\n",
       "      <td>150.000000</td>\n",
       "      <td>150.000000</td>\n",
       "      <td>150.000000</td>\n",
       "      <td>150.000000</td>\n",
       "    </tr>\n",
       "    <tr>\n",
       "      <td>mean</td>\n",
       "      <td>75.500000</td>\n",
       "      <td>5.843333</td>\n",
       "      <td>3.054000</td>\n",
       "      <td>3.758667</td>\n",
       "      <td>1.198667</td>\n",
       "    </tr>\n",
       "    <tr>\n",
       "      <td>std</td>\n",
       "      <td>43.445368</td>\n",
       "      <td>0.828066</td>\n",
       "      <td>0.433594</td>\n",
       "      <td>1.764420</td>\n",
       "      <td>0.763161</td>\n",
       "    </tr>\n",
       "    <tr>\n",
       "      <td>min</td>\n",
       "      <td>1.000000</td>\n",
       "      <td>4.300000</td>\n",
       "      <td>2.000000</td>\n",
       "      <td>1.000000</td>\n",
       "      <td>0.100000</td>\n",
       "    </tr>\n",
       "    <tr>\n",
       "      <td>25%</td>\n",
       "      <td>38.250000</td>\n",
       "      <td>5.100000</td>\n",
       "      <td>2.800000</td>\n",
       "      <td>1.600000</td>\n",
       "      <td>0.300000</td>\n",
       "    </tr>\n",
       "    <tr>\n",
       "      <td>50%</td>\n",
       "      <td>75.500000</td>\n",
       "      <td>5.800000</td>\n",
       "      <td>3.000000</td>\n",
       "      <td>4.350000</td>\n",
       "      <td>1.300000</td>\n",
       "    </tr>\n",
       "    <tr>\n",
       "      <td>75%</td>\n",
       "      <td>112.750000</td>\n",
       "      <td>6.400000</td>\n",
       "      <td>3.300000</td>\n",
       "      <td>5.100000</td>\n",
       "      <td>1.800000</td>\n",
       "    </tr>\n",
       "    <tr>\n",
       "      <td>max</td>\n",
       "      <td>150.000000</td>\n",
       "      <td>7.900000</td>\n",
       "      <td>4.400000</td>\n",
       "      <td>6.900000</td>\n",
       "      <td>2.500000</td>\n",
       "    </tr>\n",
       "  </tbody>\n",
       "</table>\n",
       "</div>"
      ],
      "text/plain": [
       "               Id  SepalLengthCm  SepalWidthCm  PetalLengthCm  PetalWidthCm\n",
       "count  150.000000     150.000000    150.000000     150.000000    150.000000\n",
       "mean    75.500000       5.843333      3.054000       3.758667      1.198667\n",
       "std     43.445368       0.828066      0.433594       1.764420      0.763161\n",
       "min      1.000000       4.300000      2.000000       1.000000      0.100000\n",
       "25%     38.250000       5.100000      2.800000       1.600000      0.300000\n",
       "50%     75.500000       5.800000      3.000000       4.350000      1.300000\n",
       "75%    112.750000       6.400000      3.300000       5.100000      1.800000\n",
       "max    150.000000       7.900000      4.400000       6.900000      2.500000"
      ]
     },
     "execution_count": 23,
     "metadata": {},
     "output_type": "execute_result"
    }
   ],
   "source": [
    "#statistical description of the dataset\n",
    "data.describe()"
   ]
  },
  {
   "cell_type": "code",
   "execution_count": 24,
   "metadata": {},
   "outputs": [
    {
     "data": {
      "text/plain": [
       "Id               0\n",
       "SepalLengthCm    0\n",
       "SepalWidthCm     0\n",
       "PetalLengthCm    0\n",
       "PetalWidthCm     0\n",
       "Species          0\n",
       "dtype: int64"
      ]
     },
     "execution_count": 24,
     "metadata": {},
     "output_type": "execute_result"
    }
   ],
   "source": [
    "data.isna().sum()"
   ]
  },
  {
   "cell_type": "markdown",
   "metadata": {},
   "source": [
    "**As there are no nan(not a number) values present in our data, we can proceed forward and check how many classes of species is present in our dataset**"
   ]
  },
  {
   "cell_type": "code",
   "execution_count": 10,
   "metadata": {},
   "outputs": [
    {
     "data": {
      "text/plain": [
       "array(['Iris-setosa', 'Iris-versicolor', 'Iris-virginica'], dtype=object)"
      ]
     },
     "execution_count": 10,
     "metadata": {},
     "output_type": "execute_result"
    }
   ],
   "source": [
    "#No. of unique classes present in target column \"Species\":\n",
    "df['Species'].unique()"
   ]
  },
  {
   "cell_type": "markdown",
   "metadata": {},
   "source": [
    "**Visualization and indentification of outliers in the dataset, using Boxplot technique**"
   ]
  },
  {
   "cell_type": "code",
   "execution_count": 27,
   "metadata": {},
   "outputs": [
    {
     "data": {
      "image/png": "[encoded data removed]",
      "text/plain": [
       "<Figure size 432x288 with 1 Axes>"
      ]
     },
     "metadata": {
      "needs_background": "light"
     },
     "output_type": "display_data"
    }
   ],
   "source": [
    "ax=sns.boxplot(x='Species',y='SepalLengthCm',data=data)"
   ]
  },
  {
   "cell_type": "code",
   "execution_count": 28,
   "metadata": {},
   "outputs": [
    {
     "data": {
      "image/png": "[encoded data removed]",
      "text/plain": [
       "<Figure size 432x288 with 1 Axes>"
      ]
     },
     "metadata": {
      "needs_background": "light"
     },
     "output_type": "display_data"
    }
   ],
   "source": [
    "ax=sns.boxplot(x='Species',y='SepalWidthCm',data=data)"
   ]
  },
  {
   "cell_type": "code",
   "execution_count": 29,
   "metadata": {},
   "outputs": [
    {
     "data": {
      "image/png": "[encoded data removed]",
      "text/plain": [
       "<Figure size 432x288 with 1 Axes>"
      ]
     },
     "metadata": {
      "needs_background": "light"
     },
     "output_type": "display_data"
    }
   ],
   "source": [
    "ax=sns.boxplot(x='Species',y='PetalLengthCm',data=data)"
   ]
  },
  {
   "cell_type": "code",
   "execution_count": 30,
   "metadata": {},
   "outputs": [
    {
     "data": {
      "image/png": "[encoded data removed]",
      "text/plain": [
       "<Figure size 432x288 with 1 Axes>"
      ]
     },
     "metadata": {
      "needs_background": "light"
     },
     "output_type": "display_data"
    }
   ],
   "source": [
    "ax=sns.boxplot(x='Species',y='PetalWidthCm',data=data)"
   ]
  },
  {
   "cell_type": "code",
   "execution_count": null,
   "metadata": {},
   "outputs": [],
   "source": []
  },
  {
   "cell_type": "markdown",
   "metadata": {},
   "source": [
    "**Now we will separate the number of columns that we will use in K-means algorithm**"
   ]
  },
  {
   "cell_type": "code",
   "execution_count": 31,
   "metadata": {},
   "outputs": [],
   "source": [
    "data1=data.iloc[:,:5].values"
   ]
  },
  {
   "cell_type": "code",
   "execution_count": 34,
   "metadata": {},
   "outputs": [
    {
     "data": {
      "text/plain": [
       "array([[-1.72054204e+00, -9.00681170e-01,  1.03205722e+00,\n",
       "        -1.34127240e+00, -1.31297673e+00],\n",
       "       [-1.69744751e+00, -1.14301691e+00, -1.24957601e-01,\n",
       "        -1.34127240e+00, -1.31297673e+00],\n",
       "       [-1.67435299e+00, -1.38535265e+00,  3.37848329e-01,\n",
       "        -1.39813811e+00, -1.31297673e+00],\n",
       "       [-1.65125846e+00, -1.50652052e+00,  1.06445364e-01,\n",
       "        -1.28440670e+00, -1.31297673e+00],\n",
       "       [-1.62816394e+00, -1.02184904e+00,  1.26346019e+00,\n",
       "        -1.34127240e+00, -1.31297673e+00],\n",
       "       [-1.60506942e+00, -5.37177559e-01,  1.95766909e+00,\n",
       "        -1.17067529e+00, -1.05003079e+00],\n",
       "       [-1.58197489e+00, -1.50652052e+00,  8.00654259e-01,\n",
       "        -1.34127240e+00, -1.18150376e+00],\n",
       "       [-1.55888037e+00, -1.02184904e+00,  8.00654259e-01,\n",
       "        -1.28440670e+00, -1.31297673e+00],\n",
       "       [-1.53578584e+00, -1.74885626e+00, -3.56360566e-01,\n",
       "        -1.34127240e+00, -1.31297673e+00],\n",
       "       [-1.51269132e+00, -1.14301691e+00,  1.06445364e-01,\n",
       "        -1.28440670e+00, -1.44444970e+00],\n",
       "       [-1.48959680e+00, -5.37177559e-01,  1.49486315e+00,\n",
       "        -1.28440670e+00, -1.31297673e+00],\n",
       "       [-1.46650227e+00, -1.26418478e+00,  8.00654259e-01,\n",
       "        -1.22754100e+00, -1.31297673e+00],\n",
       "       [-1.44340775e+00, -1.26418478e+00, -1.24957601e-01,\n",
       "        -1.34127240e+00, -1.44444970e+00],\n",
       "       [-1.42031323e+00, -1.87002413e+00, -1.24957601e-01,\n",
       "        -1.51186952e+00, -1.44444970e+00],\n",
       "       [-1.39721870e+00, -5.25060772e-02,  2.18907205e+00,\n",
       "        -1.45500381e+00, -1.31297673e+00],\n",
       "       [-1.37412418e+00, -1.73673948e-01,  3.11468391e+00,\n",
       "        -1.28440670e+00, -1.05003079e+00],\n",
       "       [-1.35102965e+00, -5.37177559e-01,  1.95766909e+00,\n",
       "        -1.39813811e+00, -1.05003079e+00],\n",
       "       [-1.32793513e+00, -9.00681170e-01,  1.03205722e+00,\n",
       "        -1.34127240e+00, -1.18150376e+00],\n",
       "       [-1.30484061e+00, -1.73673948e-01,  1.72626612e+00,\n",
       "        -1.17067529e+00, -1.18150376e+00],\n",
       "       [-1.28174608e+00, -9.00681170e-01,  1.72626612e+00,\n",
       "        -1.28440670e+00, -1.18150376e+00],\n",
       "       [-1.25865156e+00, -5.37177559e-01,  8.00654259e-01,\n",
       "        -1.17067529e+00, -1.31297673e+00],\n",
       "       [-1.23555703e+00, -9.00681170e-01,  1.49486315e+00,\n",
       "        -1.28440670e+00, -1.05003079e+00],\n",
       "       [-1.21246251e+00, -1.50652052e+00,  1.26346019e+00,\n",
       "        -1.56873522e+00, -1.31297673e+00],\n",
       "       [-1.18936799e+00, -9.00681170e-01,  5.69251294e-01,\n",
       "        -1.17067529e+00, -9.18557817e-01],\n",
       "       [-1.16627346e+00, -1.26418478e+00,  8.00654259e-01,\n",
       "        -1.05694388e+00, -1.31297673e+00],\n",
       "       [-1.14317894e+00, -1.02184904e+00, -1.24957601e-01,\n",
       "        -1.22754100e+00, -1.31297673e+00],\n",
       "       [-1.12008441e+00, -1.02184904e+00,  8.00654259e-01,\n",
       "        -1.22754100e+00, -1.05003079e+00],\n",
       "       [-1.09698989e+00, -7.79513300e-01,  1.03205722e+00,\n",
       "        -1.28440670e+00, -1.31297673e+00],\n",
       "       [-1.07389537e+00, -7.79513300e-01,  8.00654259e-01,\n",
       "        -1.34127240e+00, -1.31297673e+00],\n",
       "       [-1.05080084e+00, -1.38535265e+00,  3.37848329e-01,\n",
       "        -1.22754100e+00, -1.31297673e+00],\n",
       "       [-1.02770632e+00, -1.26418478e+00,  1.06445364e-01,\n",
       "        -1.22754100e+00, -1.31297673e+00],\n",
       "       [-1.00461179e+00, -5.37177559e-01,  8.00654259e-01,\n",
       "        -1.28440670e+00, -1.05003079e+00],\n",
       "       [-9.81517269e-01, -7.79513300e-01,  2.42047502e+00,\n",
       "        -1.28440670e+00, -1.44444970e+00],\n",
       "       [-9.58422745e-01, -4.16009689e-01,  2.65187798e+00,\n",
       "        -1.34127240e+00, -1.31297673e+00],\n",
       "       [-9.35328221e-01, -1.14301691e+00,  1.06445364e-01,\n",
       "        -1.28440670e+00, -1.44444970e+00],\n",
       "       [-9.12233697e-01, -1.02184904e+00,  3.37848329e-01,\n",
       "        -1.45500381e+00, -1.31297673e+00],\n",
       "       [-8.89139173e-01, -4.16009689e-01,  1.03205722e+00,\n",
       "        -1.39813811e+00, -1.31297673e+00],\n",
       "       [-8.66044649e-01, -1.14301691e+00,  1.06445364e-01,\n",
       "        -1.28440670e+00, -1.44444970e+00],\n",
       "       [-8.42950125e-01, -1.74885626e+00, -1.24957601e-01,\n",
       "        -1.39813811e+00, -1.31297673e+00],\n",
       "       [-8.19855601e-01, -9.00681170e-01,  8.00654259e-01,\n",
       "        -1.28440670e+00, -1.31297673e+00],\n",
       "       [-7.96761077e-01, -1.02184904e+00,  1.03205722e+00,\n",
       "        -1.39813811e+00, -1.18150376e+00],\n",
       "       [-7.73666553e-01, -1.62768839e+00, -1.74477836e+00,\n",
       "        -1.39813811e+00, -1.18150376e+00],\n",
       "       [-7.50572030e-01, -1.74885626e+00,  3.37848329e-01,\n",
       "        -1.39813811e+00, -1.31297673e+00],\n",
       "       [-7.27477506e-01, -1.02184904e+00,  1.03205722e+00,\n",
       "        -1.22754100e+00, -7.87084847e-01],\n",
       "       [-7.04382982e-01, -9.00681170e-01,  1.72626612e+00,\n",
       "        -1.05694388e+00, -1.05003079e+00],\n",
       "       [-6.81288458e-01, -1.26418478e+00, -1.24957601e-01,\n",
       "        -1.34127240e+00, -1.18150376e+00],\n",
       "       [-6.58193934e-01, -9.00681170e-01,  1.72626612e+00,\n",
       "        -1.22754100e+00, -1.31297673e+00],\n",
       "       [-6.35099410e-01, -1.50652052e+00,  3.37848329e-01,\n",
       "        -1.34127240e+00, -1.31297673e+00],\n",
       "       [-6.12004886e-01, -6.58345429e-01,  1.49486315e+00,\n",
       "        -1.28440670e+00, -1.31297673e+00],\n",
       "       [-5.88910362e-01, -1.02184904e+00,  5.69251294e-01,\n",
       "        -1.34127240e+00, -1.31297673e+00],\n",
       "       [-5.65815838e-01,  1.40150837e+00,  3.37848329e-01,\n",
       "         5.35295827e-01,  2.64698913e-01],\n",
       "       [-5.42721314e-01,  6.74501145e-01,  3.37848329e-01,\n",
       "         4.21564419e-01,  3.96171883e-01],\n",
       "       [-5.19626790e-01,  1.28034050e+00,  1.06445364e-01,\n",
       "         6.49027235e-01,  3.96171883e-01],\n",
       "       [-4.96532266e-01, -4.16009689e-01, -1.74477836e+00,\n",
       "         1.37235899e-01,  1.33225943e-01],\n",
       "       [-4.73437742e-01,  7.95669016e-01, -5.87763531e-01,\n",
       "         4.78430123e-01,  3.96171883e-01],\n",
       "       [-4.50343218e-01, -1.73673948e-01, -5.87763531e-01,\n",
       "         4.21564419e-01,  1.33225943e-01],\n",
       "       [-4.27248694e-01,  5.53333275e-01,  5.69251294e-01,\n",
       "         5.35295827e-01,  5.27644853e-01],\n",
       "       [-4.04154170e-01, -1.14301691e+00, -1.51337539e+00,\n",
       "        -2.60824029e-01, -2.61192967e-01],\n",
       "       [-3.81059646e-01,  9.16836886e-01, -3.56360566e-01,\n",
       "         4.78430123e-01,  1.33225943e-01],\n",
       "       [-3.57965122e-01, -7.79513300e-01, -8.19166497e-01,\n",
       "         8.03701950e-02,  2.64698913e-01],\n",
       "       [-3.34870598e-01, -1.02184904e+00, -2.43898725e+00,\n",
       "        -1.47092621e-01, -2.61192967e-01],\n",
       "       [-3.11776074e-01,  6.86617933e-02, -1.24957601e-01,\n",
       "         2.50967307e-01,  3.96171883e-01],\n",
       "       [-2.88681550e-01,  1.89829664e-01, -1.97618132e+00,\n",
       "         1.37235899e-01, -2.61192967e-01],\n",
       "       [-2.65587026e-01,  3.10997534e-01, -3.56360566e-01,\n",
       "         5.35295827e-01,  2.64698913e-01],\n",
       "       [-2.42492502e-01, -2.94841818e-01, -3.56360566e-01,\n",
       "        -9.02269170e-02,  1.33225943e-01],\n",
       "       [-2.19397978e-01,  1.03800476e+00,  1.06445364e-01,\n",
       "         3.64698715e-01,  2.64698913e-01],\n",
       "       [-1.96303454e-01, -2.94841818e-01, -1.24957601e-01,\n",
       "         4.21564419e-01,  3.96171883e-01],\n",
       "       [-1.73208930e-01, -5.25060772e-02, -8.19166497e-01,\n",
       "         1.94101603e-01, -2.61192967e-01],\n",
       "       [-1.50114406e-01,  4.32165405e-01, -1.97618132e+00,\n",
       "         4.21564419e-01,  3.96171883e-01],\n",
       "       [-1.27019882e-01, -2.94841818e-01, -1.28197243e+00,\n",
       "         8.03701950e-02, -1.29719997e-01],\n",
       "       [-1.03925358e-01,  6.86617933e-02,  3.37848329e-01,\n",
       "         5.92161531e-01,  7.90590793e-01],\n",
       "       [-8.08308339e-02,  3.10997534e-01, -5.87763531e-01,\n",
       "         1.37235899e-01,  1.33225943e-01],\n",
       "       [-5.77363100e-02,  5.53333275e-01, -1.28197243e+00,\n",
       "         6.49027235e-01,  3.96171883e-01],\n",
       "       [-3.46417860e-02,  3.10997534e-01, -5.87763531e-01,\n",
       "         5.35295827e-01,  1.75297293e-03],\n",
       "       [-1.15472620e-02,  6.74501145e-01, -3.56360566e-01,\n",
       "         3.07833011e-01,  1.33225943e-01],\n",
       "       [ 1.15472620e-02,  9.16836886e-01, -1.24957601e-01,\n",
       "         3.64698715e-01,  2.64698913e-01],\n",
       "       [ 3.46417860e-02,  1.15917263e+00, -5.87763531e-01,\n",
       "         5.92161531e-01,  2.64698913e-01],\n",
       "       [ 5.77363100e-02,  1.03800476e+00, -1.24957601e-01,\n",
       "         7.05892939e-01,  6.59117823e-01],\n",
       "       [ 8.08308339e-02,  1.89829664e-01, -3.56360566e-01,\n",
       "         4.21564419e-01,  3.96171883e-01],\n",
       "       [ 1.03925358e-01, -1.73673948e-01, -1.05056946e+00,\n",
       "        -1.47092621e-01, -2.61192967e-01],\n",
       "       [ 1.27019882e-01, -4.16009689e-01, -1.51337539e+00,\n",
       "         2.35044910e-02, -1.29719997e-01],\n",
       "       [ 1.50114406e-01, -4.16009689e-01, -1.51337539e+00,\n",
       "        -3.33612130e-02, -2.61192967e-01],\n",
       "       [ 1.73208930e-01, -5.25060772e-02, -8.19166497e-01,\n",
       "         8.03701950e-02,  1.75297293e-03],\n",
       "       [ 1.96303454e-01,  1.89829664e-01, -8.19166497e-01,\n",
       "         7.62758643e-01,  5.27644853e-01],\n",
       "       [ 2.19397978e-01, -5.37177559e-01, -1.24957601e-01,\n",
       "         4.21564419e-01,  3.96171883e-01],\n",
       "       [ 2.42492502e-01,  1.89829664e-01,  8.00654259e-01,\n",
       "         4.21564419e-01,  5.27644853e-01],\n",
       "       [ 2.65587026e-01,  1.03800476e+00,  1.06445364e-01,\n",
       "         5.35295827e-01,  3.96171883e-01],\n",
       "       [ 2.88681550e-01,  5.53333275e-01, -1.74477836e+00,\n",
       "         3.64698715e-01,  1.33225943e-01],\n",
       "       [ 3.11776074e-01, -2.94841818e-01, -1.24957601e-01,\n",
       "         1.94101603e-01,  1.33225943e-01],\n",
       "       [ 3.34870598e-01, -4.16009689e-01, -1.28197243e+00,\n",
       "         1.37235899e-01,  1.33225943e-01],\n",
       "       [ 3.57965122e-01, -4.16009689e-01, -1.05056946e+00,\n",
       "         3.64698715e-01,  1.75297293e-03],\n",
       "       [ 3.81059646e-01,  3.10997534e-01, -1.24957601e-01,\n",
       "         4.78430123e-01,  2.64698913e-01],\n",
       "       [ 4.04154170e-01, -5.25060772e-02, -1.05056946e+00,\n",
       "         1.37235899e-01,  1.75297293e-03],\n",
       "       [ 4.27248694e-01, -1.02184904e+00, -1.74477836e+00,\n",
       "        -2.60824029e-01, -2.61192967e-01],\n",
       "       [ 4.50343218e-01, -2.94841818e-01, -8.19166497e-01,\n",
       "         2.50967307e-01,  1.33225943e-01],\n",
       "       [ 4.73437742e-01, -1.73673948e-01, -1.24957601e-01,\n",
       "         2.50967307e-01,  1.75297293e-03],\n",
       "       [ 4.96532266e-01, -1.73673948e-01, -3.56360566e-01,\n",
       "         2.50967307e-01,  1.33225943e-01],\n",
       "       [ 5.19626790e-01,  4.32165405e-01, -3.56360566e-01,\n",
       "         3.07833011e-01,  1.33225943e-01],\n",
       "       [ 5.42721314e-01, -9.00681170e-01, -1.28197243e+00,\n",
       "        -4.31421141e-01, -1.29719997e-01],\n",
       "       [ 5.65815838e-01, -1.73673948e-01, -5.87763531e-01,\n",
       "         1.94101603e-01,  1.33225943e-01],\n",
       "       [ 5.88910362e-01,  5.53333275e-01,  5.69251294e-01,\n",
       "         1.27454998e+00,  1.71090158e+00],\n",
       "       [ 6.12004886e-01, -5.25060772e-02, -8.19166497e-01,\n",
       "         7.62758643e-01,  9.22063763e-01],\n",
       "       [ 6.35099410e-01,  1.52267624e+00, -1.24957601e-01,\n",
       "         1.21768427e+00,  1.18500970e+00],\n",
       "       [ 6.58193934e-01,  5.53333275e-01, -3.56360566e-01,\n",
       "         1.04708716e+00,  7.90590793e-01],\n",
       "       [ 6.81288458e-01,  7.95669016e-01, -1.24957601e-01,\n",
       "         1.16081857e+00,  1.31648267e+00],\n",
       "       [ 7.04382982e-01,  2.12851559e+00, -1.24957601e-01,\n",
       "         1.61574420e+00,  1.18500970e+00],\n",
       "       [ 7.27477506e-01, -1.14301691e+00, -1.28197243e+00,\n",
       "         4.21564419e-01,  6.59117823e-01],\n",
       "       [ 7.50572030e-01,  1.76501198e+00, -3.56360566e-01,\n",
       "         1.44514709e+00,  7.90590793e-01],\n",
       "       [ 7.73666553e-01,  1.03800476e+00, -1.28197243e+00,\n",
       "         1.16081857e+00,  7.90590793e-01],\n",
       "       [ 7.96761077e-01,  1.64384411e+00,  1.26346019e+00,\n",
       "         1.33141568e+00,  1.71090158e+00],\n",
       "       [ 8.19855601e-01,  7.95669016e-01,  3.37848329e-01,\n",
       "         7.62758643e-01,  1.05353673e+00],\n",
       "       [ 8.42950125e-01,  6.74501145e-01, -8.19166497e-01,\n",
       "         8.76490051e-01,  9.22063763e-01],\n",
       "       [ 8.66044649e-01,  1.15917263e+00, -1.24957601e-01,\n",
       "         9.90221459e-01,  1.18500970e+00],\n",
       "       [ 8.89139173e-01, -1.73673948e-01, -1.28197243e+00,\n",
       "         7.05892939e-01,  1.05353673e+00],\n",
       "       [ 9.12233697e-01, -5.25060772e-02, -5.87763531e-01,\n",
       "         7.62758643e-01,  1.57942861e+00],\n",
       "       [ 9.35328221e-01,  6.74501145e-01,  3.37848329e-01,\n",
       "         8.76490051e-01,  1.44795564e+00],\n",
       "       [ 9.58422745e-01,  7.95669016e-01, -1.24957601e-01,\n",
       "         9.90221459e-01,  7.90590793e-01],\n",
       "       [ 9.81517269e-01,  2.24968346e+00,  1.72626612e+00,\n",
       "         1.67260991e+00,  1.31648267e+00],\n",
       "       [ 1.00461179e+00,  2.24968346e+00, -1.05056946e+00,\n",
       "         1.78634131e+00,  1.44795564e+00],\n",
       "       [ 1.02770632e+00,  1.89829664e-01, -1.97618132e+00,\n",
       "         7.05892939e-01,  3.96171883e-01],\n",
       "       [ 1.05080084e+00,  1.28034050e+00,  3.37848329e-01,\n",
       "         1.10395287e+00,  1.44795564e+00],\n",
       "       [ 1.07389537e+00, -2.94841818e-01, -5.87763531e-01,\n",
       "         6.49027235e-01,  1.05353673e+00],\n",
       "       [ 1.09698989e+00,  2.24968346e+00, -5.87763531e-01,\n",
       "         1.67260991e+00,  1.05353673e+00],\n",
       "       [ 1.12008441e+00,  5.53333275e-01, -8.19166497e-01,\n",
       "         6.49027235e-01,  7.90590793e-01],\n",
       "       [ 1.14317894e+00,  1.03800476e+00,  5.69251294e-01,\n",
       "         1.10395287e+00,  1.18500970e+00],\n",
       "       [ 1.16627346e+00,  1.64384411e+00,  3.37848329e-01,\n",
       "         1.27454998e+00,  7.90590793e-01],\n",
       "       [ 1.18936799e+00,  4.32165405e-01, -5.87763531e-01,\n",
       "         5.92161531e-01,  7.90590793e-01],\n",
       "       [ 1.21246251e+00,  3.10997534e-01, -1.24957601e-01,\n",
       "         6.49027235e-01,  7.90590793e-01],\n",
       "       [ 1.23555703e+00,  6.74501145e-01, -5.87763531e-01,\n",
       "         1.04708716e+00,  1.18500970e+00],\n",
       "       [ 1.25865156e+00,  1.64384411e+00, -1.24957601e-01,\n",
       "         1.16081857e+00,  5.27644853e-01],\n",
       "       [ 1.28174608e+00,  1.88617985e+00, -5.87763531e-01,\n",
       "         1.33141568e+00,  9.22063763e-01],\n",
       "       [ 1.30484061e+00,  2.49201920e+00,  1.72626612e+00,\n",
       "         1.50201279e+00,  1.05353673e+00],\n",
       "       [ 1.32793513e+00,  6.74501145e-01, -5.87763531e-01,\n",
       "         1.04708716e+00,  1.31648267e+00],\n",
       "       [ 1.35102965e+00,  5.53333275e-01, -5.87763531e-01,\n",
       "         7.62758643e-01,  3.96171883e-01],\n",
       "       [ 1.37412418e+00,  3.10997534e-01, -1.05056946e+00,\n",
       "         1.04708716e+00,  2.64698913e-01],\n",
       "       [ 1.39721870e+00,  2.24968346e+00, -1.24957601e-01,\n",
       "         1.33141568e+00,  1.44795564e+00],\n",
       "       [ 1.42031323e+00,  5.53333275e-01,  8.00654259e-01,\n",
       "         1.04708716e+00,  1.57942861e+00],\n",
       "       [ 1.44340775e+00,  6.74501145e-01,  1.06445364e-01,\n",
       "         9.90221459e-01,  7.90590793e-01],\n",
       "       [ 1.46650227e+00,  1.89829664e-01, -1.24957601e-01,\n",
       "         5.92161531e-01,  7.90590793e-01],\n",
       "       [ 1.48959680e+00,  1.28034050e+00,  1.06445364e-01,\n",
       "         9.33355755e-01,  1.18500970e+00],\n",
       "       [ 1.51269132e+00,  1.03800476e+00,  1.06445364e-01,\n",
       "         1.04708716e+00,  1.57942861e+00],\n",
       "       [ 1.53578584e+00,  1.28034050e+00,  1.06445364e-01,\n",
       "         7.62758643e-01,  1.44795564e+00],\n",
       "       [ 1.55888037e+00, -5.25060772e-02, -8.19166497e-01,\n",
       "         7.62758643e-01,  9.22063763e-01],\n",
       "       [ 1.58197489e+00,  1.15917263e+00,  3.37848329e-01,\n",
       "         1.21768427e+00,  1.44795564e+00],\n",
       "       [ 1.60506942e+00,  1.03800476e+00,  5.69251294e-01,\n",
       "         1.10395287e+00,  1.71090158e+00],\n",
       "       [ 1.62816394e+00,  1.03800476e+00, -1.24957601e-01,\n",
       "         8.19624347e-01,  1.44795564e+00],\n",
       "       [ 1.65125846e+00,  5.53333275e-01, -1.28197243e+00,\n",
       "         7.05892939e-01,  9.22063763e-01],\n",
       "       [ 1.67435299e+00,  7.95669016e-01, -1.24957601e-01,\n",
       "         8.19624347e-01,  1.05353673e+00],\n",
       "       [ 1.69744751e+00,  4.32165405e-01,  8.00654259e-01,\n",
       "         9.33355755e-01,  1.44795564e+00],\n",
       "       [ 1.72054204e+00,  6.86617933e-02, -1.24957601e-01,\n",
       "         7.62758643e-01,  7.90590793e-01]])"
      ]
     },
     "execution_count": 34,
     "metadata": {},
     "output_type": "execute_result"
    }
   ],
   "source": [
    "#Feature scaling\n",
    "from sklearn.preprocessing import StandardScaler\n",
    "scaler=StandardScaler()\n",
    "scaled_features=scaler.fit_transform(data1)\n",
    "scaled_features"
   ]
  },
  {
   "cell_type": "markdown",
   "metadata": {},
   "source": [
    "# To find the value of optimal 'K' using the Elbow visualizer method\n",
    "**To Perform elbow method, we run several K means by incrementing value of K with each iteration and record Sum of squared errors value for each iteration**"
   ]
  },
  {
   "cell_type": "code",
   "execution_count": 35,
   "metadata": {},
   "outputs": [],
   "source": [
    "from sklearn.cluster import KMeans\n",
    "k_kwargs = {'init':'random',\n",
    "           'n_init':10,\n",
    "           'max_iter':300,\n",
    "           'random_state':None}\n",
    "\n",
    "#Initializing an empty list which will hold the SSE values for each iteration.\n",
    "sse =[]\n",
    "\n",
    "# Now we will iterate through 1-10 n_clusters and apply K-means on each.\n",
    "for k in range(1,11):\n",
    "    km_elbow = KMeans(n_clusters=k, **k_kwargs)\n",
    "    # Fitting the scaled features into kmeans.\n",
    "    km_elbow.fit(scaled_features)\n",
    "    # Appending the lowest sse value to sse list.\n",
    "    sse.append(km_elbow.inertia_)"
   ]
  },
  {
   "cell_type": "code",
   "execution_count": 37,
   "metadata": {},
   "outputs": [
    {
     "data": {
      "image/png": "[encoded data removed]",
      "text/plain": [
       "<Figure size 432x288 with 1 Axes>"
      ]
     },
     "metadata": {},
     "output_type": "display_data"
    }
   ],
   "source": [
    "# Plotting the SSE curve\n",
    "plt.style.use('fivethirtyeight')\n",
    "plt.plot(range(1,11),sse)\n",
    "plt.xticks(range(1,11))\n",
    "plt.xlabel('Number of Clusters')\n",
    "plt.ylabel('Sum of squared error(SSE)')\n",
    "plt.grid(True)\n",
    "plt.show()"
   ]
  },
  {
   "cell_type": "markdown",
   "metadata": {},
   "source": [
    "# Silhouette Coefficients Method\n",
    "**Silhouette coefficient values ranges between -1 and 1. Larger numbers indicates that samples are closer to their clusters than they are to other clusters.\n",
    "To find silhouette coefficients loop through values of k again but this time instead of computing SSE, we will compute silhouette coefficient**"
   ]
  },
  {
   "cell_type": "code",
   "execution_count": 39,
   "metadata": {},
   "outputs": [
    {
     "name": "stdout",
     "output_type": "stream",
     "text": [
      "[0.570815210603504, 0.452949780355554, 0.39116461465692204, 0.32750726111416584, 0.348764727279694, 0.32663803898412436, 0.323979641506664, 0.2959557158155894, 0.29490451625566283]\n"
     ]
    }
   ],
   "source": [
    "from sklearn.metrics import silhouette_score\n",
    "k_kwargs = {'init':'random','n_init':10,'max_iter':300,'random_state':None}\n",
    "\n",
    "# Initialize the list which is going to hold values of silhouette coefficients for each K.\n",
    "silhouette_coeff = []\n",
    "\n",
    "# Start with 2 clusters otherwise silhouette score will give an error.\n",
    "for k in range(2,11):\n",
    "    # Instantiating K-means class for each n_cluster value.\n",
    "    km_silhouette = KMeans(n_clusters = k, **k_kwargs)\n",
    "     # Fitting the scaled features into kmeans.\n",
    "    km_silhouette.fit(scaled_features)\n",
    "    # Estimating the silhouette score\n",
    "    score = silhouette_score(scaled_features, km_silhouette.labels_)\n",
    "    # Appending the silhouette score in silhouette coefficients list \n",
    "    silhouette_coeff.append(score)\n",
    "print(silhouette_coeff)"
   ]
  },
  {
   "cell_type": "code",
   "execution_count": 40,
   "metadata": {},
   "outputs": [
    {
     "data": {
      "image/png": "[encoded data removed]",
      "text/plain": [
       "<Figure size 432x288 with 1 Axes>"
      ]
     },
     "metadata": {},
     "output_type": "display_data"
    }
   ],
   "source": [
    "#Plotting the silhouette coefficients.\n",
    "plt.style.use('fivethirtyeight')\n",
    "plt.plot(range(2,11),silhouette_coeff)\n",
    "plt.xticks(range(2,11))\n",
    "plt.xlabel('Number of Clusters')\n",
    "plt.ylabel('Silhouette Coefficients')\n",
    "plt.grid(True)"
   ]
  },
  {
   "cell_type": "code",
   "execution_count": 43,
   "metadata": {},
   "outputs": [
    {
     "data": {
      "text/plain": [
       "KMeans(algorithm='auto', copy_x=True, init='random', max_iter=300, n_clusters=3,\n",
       "       n_init=10, n_jobs=None, precompute_distances='auto', random_state=None,\n",
       "       tol=0.0001, verbose=0)"
      ]
     },
     "execution_count": 43,
     "metadata": {},
     "output_type": "execute_result"
    }
   ],
   "source": [
    "# Applying kmeans to the dataset / Creating the kmeans classifier\n",
    "\n",
    "kmeans = KMeans(init= \"random\",n_clusters = 3,n_init = 10,max_iter = 300,random_state=None)\n",
    "\n",
    "kmeans.fit(scaled_features)"
   ]
  },
  {
   "cell_type": "markdown",
   "metadata": {},
   "source": [
    "# Statistics from initialize run with lowest SSE value"
   ]
  },
  {
   "cell_type": "code",
   "execution_count": 44,
   "metadata": {},
   "outputs": [
    {
     "name": "stdout",
     "output_type": "stream",
     "text": [
      "The lowest SSE value is : 177.05608895062974\n",
      "Final locations of centroid are: [[ 0.07560189  0.03894137 -0.73184462  0.30676007  0.21508647]\n",
      " [-1.1547262  -1.01457897  0.84230679 -1.30487835 -1.25512862]\n",
      " [ 1.14317894  1.03542672 -0.07079946  1.04224753  1.09269889]]\n",
      "The number of iterations required to converge 11\n",
      "The cluster assignments are: [1 1 1 1 1 1 1 1 1 1 1 1 1 1 1 1 1 1 1 1 1 1 1 1 1 1 1 1 1 1 1 1 1 1 1 1 1\n",
      " 1 1 1 1 1 1 1 1 1 1 1 1 1 0 0 0 0 0 0 0 0 0 0 0 0 0 0 0 0 0 0 0 0 0 0 0 0\n",
      " 0 0 0 2 0 0 0 0 0 0 0 0 2 0 0 0 0 0 0 0 0 0 0 0 0 0 2 0 2 2 2 2 0 2 2 2 2\n",
      " 2 2 0 2 2 2 2 2 0 2 0 2 2 2 2 2 2 2 2 2 2 2 2 2 2 2 2 2 2 2 2 2 2 2 2 2 2\n",
      " 2 2]\n"
     ]
    }
   ],
   "source": [
    "#The lowest SSE value\n",
    "print('The lowest SSE value is :',kmeans.inertia_)\n",
    "#Final locations of the centroid\n",
    "print('Final locations of centroid are:',kmeans.cluster_centers_)\n",
    "#The number of iterations required to converge\n",
    "print('The number of iterations required to converge',kmeans.n_iter_)\n",
    "# Cluster Assignments\n",
    "print('The cluster assignments are:',kmeans.labels_)"
   ]
  },
  {
   "cell_type": "markdown",
   "metadata": {},
   "source": [
    "# Visual Representation of the clusters\n",
    "Now we are going to plot the clusters we have received from K-means algorithm."
   ]
  },
  {
   "cell_type": "code",
   "execution_count": 46,
   "metadata": {},
   "outputs": [
    {
     "data": {
      "image/png": "[encoded data removed]",
      "text/plain": [
       "<Figure size 432x288 with 1 Axes>"
      ]
     },
     "metadata": {},
     "output_type": "display_data"
    }
   ],
   "source": [
    "# Visualising the clusters - On the first two columns\n",
    "kmeans_fit_predict = kmeans.fit_predict(scaled_features)\n",
    "plt.scatter(scaled_features[kmeans_fit_predict == 0, 0], scaled_features[kmeans_fit_predict == 0, 1], \n",
    "            s = 100, c = 'red', label = 'Iris-setosa')\n",
    "plt.scatter(scaled_features[kmeans_fit_predict == 1, 0], scaled_features[kmeans_fit_predict == 1, 1], \n",
    "            s = 100, c = 'blue', label = 'Iris-versicolour')\n",
    "plt.scatter(scaled_features[kmeans_fit_predict == 2, 0], scaled_features[kmeans_fit_predict == 2, 1],\n",
    "            s = 100, c = 'green', label = 'Iris-virginica')\n",
    "\n",
    "# Plotting the centroid of each cluster\n",
    "plt.scatter(kmeans.cluster_centers_[:, 0], kmeans.cluster_centers_[:,1], \n",
    "            s = 100, c = 'Yellow', label = 'Centroids')\n",
    "plt.legend()\n",
    "plt.grid(True)\n",
    "plt.show()"
   ]
  },
  {
   "cell_type": "markdown",
   "metadata": {},
   "source": [
    "# Evaluating the model\n",
    "Here we are going to use the \"adjusted rand index\" to evaluate our model. The value of adjusted rand index lies between (-1,1). A value closer to 0 indicates random assignments and value closer to 1 indicates perfectly labeled clusters."
   ]
  },
  {
   "cell_type": "code",
   "execution_count": 47,
   "metadata": {},
   "outputs": [
    {
     "name": "stdout",
     "output_type": "stream",
     "text": [
      "The adjusted rand index of our Kmeans model is:  0.8681109348039796\n"
     ]
    }
   ],
   "source": [
    "#Evaluating the model\n",
    "#Here we are going to use the \"adjusted rand index\" to evaluate our model. The value of adjusted rand index lies between -1 and 1. A value closer to 0 indicates random assignments and value closer to 1 indicates perfectly labeled clusters.\n",
    "\n",
    "from sklearn.metrics import adjusted_rand_score\n",
    "# Taking the species column as true clusters in adjusted rand score.\n",
    "data2 = data.iloc[:,-1].values\n",
    "ari = adjusted_rand_score(data2 ,kmeans.labels_)\n",
    "print('The adjusted rand index of our Kmeans model is: ',ari)"
   ]
  }
 ],
 "metadata": {
  "kernelspec": {
   "display_name": "Python 3",
   "language": "python",
   "name": "python3"
  },
  "language_info": {
   "codemirror_mode": {
    "name": "ipython",
    "version": 3
   },
   "file_extension": ".py",
   "mimetype": "text/x-python",
   "name": "python",
   "nbconvert_exporter": "python",
   "pygments_lexer": "ipython3",
   "version": "3.7.4"
  }
 },
 "nbformat": 4,
 "nbformat_minor": 2
}
